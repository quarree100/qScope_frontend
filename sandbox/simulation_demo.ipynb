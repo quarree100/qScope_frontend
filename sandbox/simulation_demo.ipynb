{
 "cells": [
  {
   "cell_type": "code",
   "execution_count": null,
   "metadata": {},
   "outputs": [],
   "source": [
    "import os\n",
    "import importlib  # used to reload modules if necessary\n",
    "path_to_frontend = '..'\n",
    "os.chdir(path_to_frontend)\n",
    "import q100viz.session as session\n",
    "import q100viz.devtools as devtools\n",
    "import q100viz.graphics.graphs as graphs"
   ]
  },
  {
   "cell_type": "code",
   "execution_count": null,
   "metadata": {},
   "outputs": [],
   "source": [
    "# prepare simulation:\n",
    "devtools.select_buildings_for_simulation(session.buildings.df, ['7.31', '7.32', '7.53', '7.54'])"
   ]
  },
  {
   "cell_type": "code",
   "execution_count": null,
   "metadata": {},
   "outputs": [],
   "source": [
    "# start simulation:\n",
    "session.simulation.activate(max_year=2022)"
   ]
  },
  {
   "cell_type": "code",
   "execution_count": null,
   "metadata": {},
   "outputs": [],
   "source": [
    "# create combined emissions graph:\n",
    "importlib.reload(graphs)\n",
    "graphs.export_combined_emissions(session.buildings.list_from_groups(), current_output_folder=\"/home/dunland/github/qScope/data/outputs/output_test\", compare_data_folder=\"/home/dunland/github/qScope/data/precomputed/simulation_defaults\")"
   ]
  },
  {
   "cell_type": "code",
   "execution_count": null,
   "metadata": {},
   "outputs": [],
   "source": [
    "# create combined energy prices graph:\n",
    "importlib.reload(graphs)\n",
    "graphs.export_combined_energy_prices(\"/home/dunland/github/qScope/data/outputs/output_test\", outfile=None, compare_data_folder=\"/home/dunland/github/qScope/data/precomputed/simulation_defaults\")"
   ]
  },
  {
   "cell_type": "code",
   "execution_count": null,
   "metadata": {},
   "outputs": [],
   "source": [
    "# create individual graphs for precomputed simulation:\n",
    "importlib.reload(graphs)\n",
    "\n",
    "session.buildings.df['group'] = 0\n",
    "\n",
    "output_folder = \"/home/dunland/github/qScope/data/precomputed/simulation_defaults\"\n",
    "for group_df in session.buildings.list_from_groups():\n",
    "    if group_df is not None:\n",
    "        for idx in group_df.index:\n",
    "\n",
    "            # export emissions graph:\n",
    "            graphs.export_default_graph(\n",
    "                csv_name=\"/emissions/CO2_emissions_{0}.csv\".format(\n",
    "                    idx),\n",
    "                data_folders=[output_folder],\n",
    "                csv_columns=['building_household_emissions'],\n",
    "                title_=\"CO2-Emissionen\",\n",
    "                outfile=output_folder + \"/emissions/CO2_emissions_{0}.png\".format(idx),\n",
    "                xlabel_=\"Jahr\",\n",
    "                ylabel_=\"ø-Emissionen [$kg_{CO2,eq}$]\",\n",
    "                x_='current_date',\n",
    "                convert_grams_to_kg=True,\n",
    "                # compare_data_folder=output_folder + \"/../../precomputed/simulation_defaults\"\n",
    "            )"
   ]
  },
  {
   "cell_type": "code",
   "execution_count": null,
   "metadata": {},
   "outputs": [],
   "source": [
    "importlib.reload(graphs)\n",
    "\n",
    "session.buildings.df['group'] = 0\n",
    "\n",
    "output_folder = \"/home/dunland/github/qScope/data/precomputed/simulation_defaults\"\n",
    "for group_df in session.buildings.list_from_groups():\n",
    "    if group_df is not None:\n",
    "        for idx in group_df.index:\n",
    "            # export energy prices graph:\n",
    "            graphs.export_default_graph(\n",
    "                csv_name=\"/energy_prices/energy_prices_{0}.csv\".format(\n",
    "                    idx),\n",
    "                data_folders=[output_folder],\n",
    "                csv_columns=['building_household_expenses_heat',\n",
    "                            'building_household_expenses_power'],\n",
    "                labels_=['Wärmekosten', 'Stromkosten'],\n",
    "                outfile=output_folder + \"/energy_prices/energy_prices_{0}.png\".format(idx),\n",
    "                title_=\"Energiekosten\",\n",
    "                xlabel_=\"Jahr\",\n",
    "                ylabel_=\"€/Monat\",\n",
    "                x_='current_date',\n",
    "                # label_show_iteration_round=False\n",
    "                # compare_data_folder=self.current_output_folder + \"/../../precomputed/simulation_defaults\"\n",
    "            )"
   ]
  },
  {
   "cell_type": "code",
   "execution_count": null,
   "metadata": {},
   "outputs": [],
   "source": [
    "# os.listdir(\"../qScope/data/precomputed/simulation_defaults/emissions/\")\n",
    "filelist = []\n",
    "for root, dirs, files in os.walk(\"../qScope/data/precomputed/simulation_defaults/emissions/\"):\n",
    "    for name in sorted(files):\n",
    "        if name[-4:].__eq__('.png'):\n",
    "            filelist.append(os.path.join(root, name))\n",
    "print(filelist)"
   ]
  },
  {
   "cell_type": "code",
   "execution_count": null,
   "metadata": {},
   "outputs": [],
   "source": []
  }
 ],
 "metadata": {
  "kernelspec": {
   "display_name": "Python 3.10.4 64-bit",
   "language": "python",
   "name": "python3"
  },
  "language_info": {
   "codemirror_mode": {
    "name": "ipython",
    "version": 3
   },
   "file_extension": ".py",
   "mimetype": "text/x-python",
   "name": "python",
   "nbconvert_exporter": "python",
   "pygments_lexer": "ipython3",
   "version": "3.10.6"
  },
  "orig_nbformat": 4,
  "vscode": {
   "interpreter": {
    "hash": "31f2aee4e71d21fbe5cf8b01ff0e069b9275f58929596ceb00d14d90e3e16cd6"
   }
  }
 },
 "nbformat": 4,
 "nbformat_minor": 2
}
