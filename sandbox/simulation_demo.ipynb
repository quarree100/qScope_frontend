{
 "cells": [
  {
   "cell_type": "code",
   "execution_count": 32,
   "metadata": {},
   "outputs": [],
   "source": [
    "import os\n",
    "import importlib  # used to reload modules if necessary\n",
    "path_to_frontend = '..'\n",
    "os.chdir(path_to_frontend)\n",
    "import q100viz.session as session\n",
    "import q100viz.devtools as devtools\n",
    "import q100viz.graphics.graphs as graphs"
   ]
  },
  {
   "cell_type": "code",
   "execution_count": 33,
   "metadata": {},
   "outputs": [
    {
     "name": "stdout",
     "output_type": "stream",
     "text": [
      "id\n",
      "7.32    1.0\n",
      "7.31    1.0\n",
      "7.54    0.0\n",
      "7.53    2.0\n",
      "Name: group, dtype: float64\n"
     ]
    }
   ],
   "source": [
    "# prepare simulation:\n",
    "devtools.select_buildings_for_simulation(session.buildings.df, ['7.31', '7.32', '7.53', '7.54'])\n",
    "# session.buildings.df['selected'] = True"
   ]
  },
  {
   "cell_type": "code",
   "execution_count": 36,
   "metadata": {},
   "outputs": [
    {
     "data": {
      "text/plain": [
       "'/home/dunland/github/qScope'"
      ]
     },
     "execution_count": 36,
     "metadata": {},
     "output_type": "execute_result"
    }
   ],
   "source": [
    "# start simulation:\n",
    "session.simulation.activate(max_year=2045)"
   ]
  },
  {
   "cell_type": "code",
   "execution_count": null,
   "metadata": {},
   "outputs": [],
   "source": [
    "# create combined emissions graph:\n",
    "importlib.reload(graphs)\n",
    "graphs.export_combined_emissions(session.buildings.list_from_groups(), current_output_folder=\"/home/dunland/github/qScope/data/outputs/output_test\", compare_data_folder=\"/home/dunland/github/qScope/data/outputs/output_bestand\")"
   ]
  },
  {
   "cell_type": "code",
   "execution_count": null,
   "metadata": {},
   "outputs": [],
   "source": [
    "# create combined energy prices graph:\n",
    "importlib.reload(graphs)\n",
    "graphs.export_combined_energy_prices(\"/home/dunland/github/qScope/data/outputs/output_test\", outfile=None, compare_data_folder=\"/home/dunland/github/qScope/data/outputs/output_bestand\")"
   ]
  },
  {
   "cell_type": "code",
   "execution_count": null,
   "metadata": {},
   "outputs": [],
   "source": [
    "# create individual graphs:\n",
    "importlib.reload(graphs)\n",
    "output_folder = \"/home/dunland/github/qScope/data/outputs/output_test\"\n",
    "for group_df in session.buildings.list_from_groups():\n",
    "    if group_df is not None:\n",
    "        for idx in group_df.index:\n",
    "\n",
    "            # export emissions graph:\n",
    "            graphs.export_using_columns(\n",
    "                csv_name=\"/emissions/CO2_emissions_{0}.csv\".format(\n",
    "                    idx),\n",
    "                data_folders=[output_folder],\n",
    "                columns=['building_emissions'],\n",
    "                title_=\"CO2-Emissionen\",\n",
    "                outfile=None,\n",
    "                xlabel_=\"Jahr\",\n",
    "                ylabel_=\"ø-Emissionen [$kg_{CO2,eq}$]\",\n",
    "                x_='current_date',\n",
    "                convert_grams_to_kg=True,\n",
    "                compare_data_folder=output_folder + \"/../output_bestand\"\n",
    "            )"
   ]
  },
  {
   "cell_type": "code",
   "execution_count": null,
   "metadata": {},
   "outputs": [],
   "source": [
    "# investigate buildings dataframe:\n",
    "df = session.buildings.df[['address', 'spec_heat_consumption', 'avg_spec_heat_consumption', 'type']]\n",
    "devtools.print_full_df(df)\n",
    "df.to_csv('buildings_list_export_2022-10_11_16-25.csv')\n",
    "print(abs(session.buildings.df['spec_heat_consumption'] - session.buildings.df['avg_spec_heat_consumption']).describe())"
   ]
  },
  {
   "cell_type": "code",
   "execution_count": null,
   "metadata": {},
   "outputs": [],
   "source": [
    "session.buildings.df[['address', 'type', 'cluster_size', 'avg_spec_heat_consumption', 'avg_spec_power_consumption']].to_csv(\"buildings_average_consumption_2022-10-13_09-18.csv\")"
   ]
  },
  {
   "cell_type": "code",
   "execution_count": null,
   "metadata": {},
   "outputs": [],
   "source": [
    "# make clusters and get average cluster data:\n",
    "buildings_cluster = session.buildings.make_clusters(start_interval=0.5)\n",
    "for j in range(len(session.buildings.df)):\n",
    "    session.buildings.df.at[session.buildings.df.index[j], 'avg_spec_heat_consumption'] = buildings_cluster[j]['spec_heat_consumption'].mean()\n",
    "    session.buildings.df.at[session.buildings.df.index[j], 'avg_spec_power_consumption'] = buildings_cluster[j]['spec_power_consumption'].mean()\n",
    "    session.buildings.df.at[session.buildings.df.index[j], 'cluster_size'] = int(len(buildings_cluster[j]))\n",
    "session.buildings.df[['cluster_size', 'spec_heat_consumption', 'avg_spec_heat_consumption', 'spec_power_consumption', 'avg_spec_power_consumption']].describe()"
   ]
  },
  {
   "cell_type": "code",
   "execution_count": null,
   "metadata": {},
   "outputs": [],
   "source": []
  }
 ],
 "metadata": {
  "kernelspec": {
   "display_name": "Python 3.10.4 64-bit",
   "language": "python",
   "name": "python3"
  },
  "language_info": {
   "codemirror_mode": {
    "name": "ipython",
    "version": 3
   },
   "file_extension": ".py",
   "mimetype": "text/x-python",
   "name": "python",
   "nbconvert_exporter": "python",
   "pygments_lexer": "ipython3",
   "version": "3.10.6"
  },
  "orig_nbformat": 4,
  "vscode": {
   "interpreter": {
    "hash": "31f2aee4e71d21fbe5cf8b01ff0e069b9275f58929596ceb00d14d90e3e16cd6"
   }
  }
 },
 "nbformat": 4,
 "nbformat_minor": 2
}
