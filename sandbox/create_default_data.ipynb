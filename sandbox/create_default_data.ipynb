{
 "cells": [
  {
   "cell_type": "code",
   "execution_count": null,
   "metadata": {},
   "outputs": [],
   "source": [
    "import os\n",
    "import importlib  # used to reload modules if necessary\n",
    "path_to_frontend = '..'\n",
    "os.chdir(path_to_frontend)\n",
    "import q100viz.session as session\n",
    "import q100viz.devtools as devtools\n",
    "import q100viz.graphics.graphs as graphs"
   ]
  },
  {
   "cell_type": "code",
   "execution_count": null,
   "metadata": {},
   "outputs": [],
   "source": [
    "# prepare reference data: select buildings without decisions\n",
    "session.buildings.df['selected'] = True"
   ]
  },
  {
   "cell_type": "code",
   "execution_count": null,
   "metadata": {},
   "outputs": [],
   "source": [
    "# simulate until 2045\n",
    "session.simulation.activate(input_max_year=2021)"
   ]
  },
  {
   "cell_type": "code",
   "execution_count": null,
   "metadata": {},
   "outputs": [],
   "source": [
    "# make gray graphs:\n",
    "# create graphs from precomputed reference data\n",
    "importlib.reload(graphs)\n",
    "for group_df in session.buildings.list_from_groups():\n",
    "            if group_df is not None:\n",
    "                for idx in group_df.index:\n",
    "\n",
    "                    # export emissions graph:\n",
    "                    graphs.export_individual_graph(\n",
    "                        csv_name=\"/emissions/CO2_emissions_{0}.csv\".format(\n",
    "                            idx),\n",
    "                        data_folders=session.simulation.reference_data_folder,\n",
    "                        columns=['building_household_emissions'],\n",
    "                        title_=\"CO2-Emissionen (monatlich berechnet)\",\n",
    "                        outfile=session.simulation.reference_data_folder +\n",
    "                        \"/emissions/CO2_emissions_{0}.png\".format(idx),\n",
    "                        xlabel_=\"Jahr\",\n",
    "                        ylabel_=\"ø-Emissionen [$kg_{CO2,eq}$]\",\n",
    "                        x_='current_date',\n",
    "                        convert_grams_to_kg=True,\n",
    "                        # compare_data_folder=session.simulation.reference_data_folder + \"/../../precomputed/simulation_defaults\",\n",
    "                        figtext=\n",
    "                            str(idx) + \" \"\n",
    "                            + str(group_df.loc[idx, 'address']) + \" \"\n",
    "                            + str(group_df.loc[idx, 'type'])\n",
    "                            + \"\\nø-spez. Wärmeverbrauch: \"\n",
    "                            + str(group_df.loc[idx, 'avg_spec_heat_consumption'])\n",
    "                            + \", ø-spez. Stromverbrauch: \"\n",
    "                            + str(group_df.loc[idx, 'avg_spec_heat_consumption'])\n",
    "                            if session.VERBOSE_MODE else \"\",\n",
    "                        figsize=(16,12),  # inches\n",
    "                        overwrite_color='lightgray'\n",
    "                    )\n",
    "\n",
    "                    # export energy prices graph:\n",
    "                    graphs.export_individual_graph(\n",
    "                        csv_name=\"/energy_prices/energy_prices_{0}.csv\".format(\n",
    "                            idx),\n",
    "                        data_folders=session.simulation.reference_data_folder,\n",
    "                        columns=['building_household_expenses_heat',\n",
    "                                 'building_household_expenses_power'],\n",
    "                        labels_=['Wärmekosten', 'Stromkosten'],\n",
    "                        outfile=session.simulation.reference_data_folder +\n",
    "                        \"/energy_prices/energy_prices_{0}.png\".format(idx),\n",
    "                        title_=\"Energiekosten\",\n",
    "                        xlabel_=\"Jahr\",\n",
    "                        ylabel_=\"€/Monat\",\n",
    "                        x_='current_date',\n",
    "                        # compare_data_folder=session.simulation.reference_data_folder + \"/../../precomputed/simulation_defaults\",\n",
    "                        figtext=\n",
    "                            str(idx) + \" \"\n",
    "                            + str(group_df.loc[idx, 'address']) + \" \"\n",
    "                            + str(group_df.loc[idx, 'type'])\n",
    "                            + \"\\nø-spez. Wärmeverbrauch: \"\n",
    "                            + str(group_df.loc[idx, 'avg_spec_heat_consumption'])\n",
    "                            + \", ø-spez. Stromverbrauch: \"\n",
    "                            + str(group_df.loc[idx, 'avg_spec_heat_consumption'])\n",
    "                            if session.VERBOSE_MODE else \"\",\n",
    "                        figsize=(16,12),  # inches\n",
    "                        overwrite_color='lightgray'\n",
    "                    )\n"
   ]
  },
  {
   "cell_type": "markdown",
   "metadata": {},
   "source": [
    "---\n",
    "test stuff:"
   ]
  },
  {
   "cell_type": "code",
   "execution_count": null,
   "metadata": {},
   "outputs": [],
   "source": [
    "\n",
    "# create individual emissions graphs from precomputed reference data:\n",
    "for idx in session.buildings.df.index:\n",
    "    graphs.export_default_graph(\n",
    "        csv_name=\"/emissions/CO2_emissions_{0}.csv\".format(\n",
    "            idx),\n",
    "        data_folders=[session.simulation.reference_data_folder],\n",
    "        csv_columns=['building_household_emissions'],\n",
    "        title_=\"CO2-Emissionen (monatlich berechnet)\",\n",
    "        outfile=session.simulation.reference_data_folder +\n",
    "        \"/emissions/CO2_emissions_{0}.png\".format(idx),\n",
    "        xlabel_=\"Jahr\",\n",
    "        ylabel_=\"ø-Emissionen [$kg_{CO2,eq}$]\",\n",
    "        x_='current_date',\n",
    "        convert_grams_to_kg=True,\n",
    "        # compare_data_folder=session.simulation.current_output_folder + \"/../../precomputed/simulation_defaults\",\n",
    "        figsize=(16,12)  # inches\n",
    "    )\n"
   ]
  },
  {
   "cell_type": "code",
   "execution_count": null,
   "metadata": {},
   "outputs": [],
   "source": []
  }
 ],
 "metadata": {
  "kernelspec": {
   "display_name": "Python 3.10.6 64-bit",
   "language": "python",
   "name": "python3"
  },
  "language_info": {
   "codemirror_mode": {
    "name": "ipython",
    "version": 3
   },
   "file_extension": ".py",
   "mimetype": "text/x-python",
   "name": "python",
   "nbconvert_exporter": "python",
   "pygments_lexer": "ipython3",
   "version": "3.10.6"
  },
  "orig_nbformat": 4,
  "vscode": {
   "interpreter": {
    "hash": "31f2aee4e71d21fbe5cf8b01ff0e069b9275f58929596ceb00d14d90e3e16cd6"
   }
  }
 },
 "nbformat": 4,
 "nbformat_minor": 2
}
