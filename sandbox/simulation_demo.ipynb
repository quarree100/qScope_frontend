{
 "cells": [
  {
   "cell_type": "code",
   "execution_count": null,
   "metadata": {},
   "outputs": [],
   "source": [
    "import os\n",
    "import random\n",
    "import pandas\n",
    "import importlib  # used to reload modules if necessary\n",
    "path_to_frontend = '..'\n",
    "os.chdir(path_to_frontend)\n",
    "print('current working directory:', os.getcwd())\n",
    "import q100viz.session as session\n",
    "import q100viz.devtools as devtools\n",
    "import q100viz.graphics.graphs as graphs"
   ]
  },
  {
   "cell_type": "code",
   "execution_count": null,
   "metadata": {},
   "outputs": [],
   "source": [
    "session.buildings.df['selected'] = False\n",
    "session.buildings.df['group'] = -1"
   ]
  },
  {
   "cell_type": "code",
   "execution_count": null,
   "metadata": {},
   "outputs": [],
   "source": [
    "# prepare simulation:\n",
    "\n",
    "devtools.mark_random_buildings_for_simulation(session.buildings.df, 4, connection_to_heat_grid=random.randint(2020,2040), refurbished=True)\n"
   ]
  },
  {
   "cell_type": "code",
   "execution_count": null,
   "metadata": {},
   "outputs": [],
   "source": [
    "# start simulation:\n",
    "session.simulation.setup(input_max_year=2045)\n",
    "session.simulation.run()"
   ]
  },
  {
   "cell_type": "code",
   "execution_count": null,
   "metadata": {},
   "outputs": [],
   "source": [
    "# test batch-simulation:\n",
    "session.VERBOSE_MODE = True\n",
    "importlib.reload(graphs)\n",
    "# 1. 2 specific + 2 random buildings, no decisions\n",
    "devtools.select_buildings_for_simulation(session.buildings.df, ['5.11', '6.06'])\n",
    "devtools.select_random_buildings_for_simulation(\n",
    "            session.buildings.df, 2)\n",
    "session.simulation.setup(input_max_year=2022)\n",
    "session.simulation.run()\n",
    "\n",
    "# 2. same buildings, connection=2022\n",
    "devtools.select_random_buildings_for_simulation(\n",
    "            session.buildings.df[session.buildings.df['selected'] == True], 4, connection_to_heat_grid=2021)\n",
    "session.simulation.setup(input_max_year=2022)\n",
    "session.simulation.run()\n",
    "\n",
    "# 2. same buildings, connection=2022 + refurbished\n",
    "devtools.select_random_buildings_for_simulation(\n",
    "            session.buildings.df[session.buildings.df['selected'] == True], 4, connection_to_heat_grid=2021, refurbished=True)\n",
    "session.simulation.setup(input_max_year=2022)\n",
    "session.simulation.run()\n",
    "\n",
    "# 2. same buildings, connection=2022 + save_energy\n",
    "session.buildings.df['refurbished'] = False  # reset refurbishment\n",
    "\n",
    "devtools.select_random_buildings_for_simulation(\n",
    "            session.buildings.df[session.buildings.df['selected'] == True], 4, connection_to_heat_grid=2021, save_energy=True)\n",
    "session.simulation.setup(input_max_year=2022)\n",
    "session.simulation.run()"
   ]
  },
  {
   "cell_type": "markdown",
   "metadata": {},
   "source": [
    "## single graph design"
   ]
  },
  {
   "cell_type": "code",
   "execution_count": null,
   "metadata": {},
   "outputs": [],
   "source": [
    "importlib.reload(graphs)\n",
    "# for group_df in session.buildings.list_from_groups():\n",
    "#     if group_df is not None:\n",
    "#         for idx in group_df.index:\n",
    "idx = \"1.02\"\n",
    "\n",
    "output_folders = [\"../data/outputs/output_test\"]\n",
    "current_output_folder = output_folders[0]\n",
    "\n",
    "# export emissions graph:\n",
    "graphs.export_individual_emissions(\n",
    "    csv_name=\"/emissions/CO2_emissions_{0}.csv\".format(\n",
    "        idx),\n",
    "    data_folders=output_folders,\n",
    "    columns=['building_household_emissions'],\n",
    "    title_=\"Emissionen\",\n",
    "    # outfile=current_output_folder +\n",
    "    # \"/emissions/CO2_emissions_{0}.png\".format(idx),\n",
    "    xlabel_=\"Jahr\",\n",
    "    ylabel_=\"$CO_{2}$-Äquivalente (kg/Monat)\",  # TODO: t/Jahr\n",
    "    x_='current_date',\n",
    "    convert_grams_to_kg=True,\n",
    "    compare_data_folder=current_output_folder + \"/../../precomputed/simulation_defaults\",\n",
    "    figtext=\n",
    "        str(idx) + \" \"\n",
    "        + str(group_df.loc[idx, 'address']) + \" \"\n",
    "        + str(group_df.loc[idx, 'type'])\n",
    "        + \"\\nø-spez. Wärmeverbrauch: \"\n",
    "        + str(group_df.loc[idx, 'avg_spec_heat_consumption'])\n",
    "        + \", ø-spez. Stromverbrauch: \"\n",
    "        + str(group_df.loc[idx, 'avg_spec_heat_consumption'])\n",
    "        if session.VERBOSE_MODE else \"\",\n",
    "    figsize=(16,12)  # inches\n",
    ")\n",
    "\n",
    "# export energy prices graph:\n",
    "graphs.export_individual_energy_expenses(\n",
    "    csv_name=\"/energy_prices/energy_prices_{0}.csv\".format(\n",
    "        idx),\n",
    "    data_folders=output_folders,\n",
    "    columns=['building_household_expenses_heat',\n",
    "            'building_household_expenses_power'],\n",
    "    labels_=['Wärmekosten', 'Stromkosten'],\n",
    "    # outfile=current_output_folder +\n",
    "    # \"/energy_prices/energy_prices_{0}.png\".format(idx),\n",
    "    title_=\"Energiekosten\",\n",
    "    xlabel_=\"Jahr\",\n",
    "    ylabel_=\"€/Monat\",\n",
    "    x_='current_date',\n",
    "    compare_data_folder=current_output_folder + \"/../../precomputed/simulation_defaults\",\n",
    "    figtext=\n",
    "        str(idx) + \" \"\n",
    "        + str(group_df.loc[idx, 'address']) + \" \"\n",
    "        + str(group_df.loc[idx, 'type'])\n",
    "        + \"\\nø-spez. Wärmeverbrauch: \"\n",
    "        + str(group_df.loc[idx, 'avg_spec_heat_consumption'])\n",
    "        + \", ø-spez. Stromverbrauch: \"\n",
    "        + str(group_df.loc[idx, 'avg_spec_heat_consumption'])\n",
    "        if session.VERBOSE_MODE else \"\",\n",
    "    figsize=(16,12),  # inches\n",
    "    prepend_historic_data=True\n",
    ")"
   ]
  },
  {
   "cell_type": "markdown",
   "metadata": {},
   "source": [
    "## neighborhood graphs"
   ]
  },
  {
   "cell_type": "code",
   "execution_count": null,
   "metadata": {},
   "outputs": [],
   "source": [
    "# neighborhood total emissions:\n",
    "importlib.reload(graphs)\n",
    "graphs.export_individual_graph(\n",
    "    csv_name=\"/emissions/CO2_emissions_neighborhood.csv\",\n",
    "    data_folders=output_folders,\n",
    "    columns=['emissions_neighborhood_accu'],\n",
    "    title_=\"jährlich kumulierte Gesamtemissionen des Quartiers\",\n",
    "    # outfile=current_output_folder + \"/emissions/CO2_emissions_neighborhood.png\",\n",
    "    xlabel_=\"Jahr\",\n",
    "    ylabel_=\"$CO_{2}$-Äquivalente (t)\",\n",
    "    x_='current_date',\n",
    "    convert_grams_to_tons=True,\n",
    "    compare_data_folder=current_output_folder + \"/../../precomputed/simulation_defaults\"\n",
    ")\n",
    "\n",
    "# neighborhood total energy prices prognosis:\n",
    "graphs.export_neighborhood_total_data(\n",
    "    csv_name=\"/energy_prices/energy_prices_total.csv\",\n",
    "    data_folders=[current_output_folder],\n",
    "    columns=['gas_price', 'power_price', 'oil_price'],\n",
    "    labels_=['Gaspreis', 'Strompreis', 'Ölpreis',],\n",
    "    title_=\"generelle Energiepreise nach Energieträger\",\n",
    "    # outfile=current_output_folder + \"/energy_prices/energy_prices_total.png\",\n",
    "    xlabel_=\"Jahr\",\n",
    "    ylabel_=\"Preis (ct/kWh)\",\n",
    "    x_='current_date',\n",
    "    label_show_iteration_round=False\n",
    "    # compare_data_folder=current_output_folder + \"/../../precomputed/simulation_defaults\"\n",
    ")"
   ]
  },
  {
   "cell_type": "code",
   "execution_count": null,
   "metadata": {},
   "outputs": [],
   "source": [
    "\n",
    "# export energy prices graph:\n",
    "# importlib.reload(graphs)\n",
    "# session.simulation.output_folders = [\"/home/dunland/github/qScope/data/outputs/output_20221025_13-56-59\", \"/home/dunland/github/qScope/data/outputs/output_20221025_14-08-17\"] \n",
    "for group_df in session.buildings.list_from_groups():\n",
    "    if group_df is not None:\n",
    "        for idx in group_df.index:\n",
    "            graphs.export_individual_graph(\n",
    "                csv_name=\"/energy_prices/energy_prices_{0}.csv\".format(\n",
    "                    idx),\n",
    "                data_folders=[\"/home/dunland/github/qScope/data/outputs/output_test\"],\n",
    "                columns=['building_household_expenses_heat',\n",
    "                            'building_household_expenses_power'],\n",
    "                labels_=['Wärmekosten', 'Stromkosten'],\n",
    "                outfile=None,\n",
    "                title_=\"Energiekosten\",\n",
    "                xlabel_=\"Jahr\",\n",
    "                ylabel_=\"€/Monat\",\n",
    "                x_='current_date',\n",
    "                compare_data_folder=session.simulation.reference_data_folder,\n",
    "                figtext=\n",
    "                    str(idx) + \" \"\n",
    "                    + str(group_df.loc[idx, 'address']) + \" \"\n",
    "                    + str(group_df.loc[idx, 'type'])\n",
    "                    + \"\\nø-spez. Wärmeverbrauch: \"\n",
    "                    + str(group_df.loc[idx, 'avg_spec_heat_consumption'])\n",
    "                    + \", ø-spez. Stromverbrauch: \"\n",
    "                    + str(group_df.loc[idx, 'avg_spec_heat_consumption'])\n",
    "                    if session.VERBOSE_MODE else \"\",\n",
    "                figsize=(16,12)  # inches\n",
    "            )"
   ]
  },
  {
   "cell_type": "markdown",
   "metadata": {},
   "source": [
    "## combined graphs"
   ]
  },
  {
   "cell_type": "code",
   "execution_count": null,
   "metadata": {},
   "outputs": [],
   "source": [
    "session.simulation.current_output_folder = \"../data/outputs/output_test/\"\n",
    "devtools.select_buildings_for_simulation(session.buildings.df, ['1.02', '5.11', '6.06', '2.07'], connection_to_heat_grid=2027, refurbished=True)\n",
    "\n",
    "# combined emissions graph for selected buildings:\n",
    "graphs.export_compared_emissions(\n",
    "    session.buildings.list_from_groups(),\n",
    "    session.simulation.current_output_folder\n",
    "    )\n",
    "\n",
    "# combined energy prices graph for selected buildings:\n",
    "graphs.export_compared_energy_costs(\n",
    "    search_in_folder=session.simulation.current_output_folder)"
   ]
  },
  {
   "cell_type": "code",
   "execution_count": null,
   "metadata": {},
   "outputs": [],
   "source": [
    "importlib.reload(session)\n",
    "# create graphs from precomputed reference data\n",
    "for idx in session.buildings.df.index:\n",
    "    graphs.export_default_graph(\n",
    "        csv_name=\"/energy_prices/energy_prices_{0}.csv\".format(\n",
    "            idx),\n",
    "        data_folders=[session.simulation.reference_data_folder],\n",
    "        csv_columns=['building_household_expenses_heat',\n",
    "                    'building_household_expenses_power'],\n",
    "        labels_=['Wärmekosten', 'Stromkosten'],\n",
    "        outfile=session.simulation.reference_data_folder + \"/energy_prices/\",\n",
    "        title_=\"Energiekosten\",\n",
    "        xlabel_=\"Jahr\",\n",
    "        ylabel_=\"€/Monat\",\n",
    "        x_='current_date',\n",
    "        # compare_data_folder=session.simulation.current_output_folder + \"/../../precomputed/simulation_defaults\",\n",
    "        figsize=(16,12),  # inches\n",
    "        overwrite_color='lightgray'\n",
    "    )"
   ]
  },
  {
   "cell_type": "code",
   "execution_count": null,
   "metadata": {},
   "outputs": [],
   "source": [
    "importlib.reload(graphs)\n",
    "\n",
    "devtools.select_buildings_for_simulation(session.buildings.df, ['1.02'], connection_to_heat_grid=2027, refurbished=True)\n",
    "\n",
    "session.buildings.df.at['1.02', 'group'] = 2\n",
    "print(session.buildings.df.loc['1.02', 'group'])\n",
    "\n",
    "current_output_folder = \"/home/dunland/github/qScope/data/outputs/output_test\"\n",
    "graphs.export_compared_emissions(\n",
    "            session.buildings.list_from_groups(),\n",
    "            current_output_folder,\n",
    "            current_output_folder + \"/emissions/CO2_emissions_groups.png\"\n",
    "            )"
   ]
  },
  {
   "cell_type": "code",
   "execution_count": null,
   "metadata": {},
   "outputs": [],
   "source": [
    "df_prepend_expenses=pandas.read_csv(\"../data/data_pre-simulation/energy-expenses_hh_2000-2020.csv\")\n",
    "output_folder = \"../data/outputs/output_test/\"\n",
    "csv_name = \"/energy_prices/energy_prices_1.02.csv\"\n",
    "\n",
    "df_prepend_expenses = df_prepend_expenses.rename(columns={\n",
    "    'year' : 'current_date',\n",
    "    'hh_heat_expenses_2000_2020' : 'building_household_expenses_heat',\n",
    "    'hh_power_expenses_2000_2020' : 'building_household_expenses_power'\n",
    "})\n",
    "\n",
    "df_prepend_expenses = df_prepend_expenses[df_prepend_expenses['current_date'] < 2020]\n",
    "\n",
    "csv_data = pandas.read_csv(output_folder + csv_name)\n",
    "csv_data['current_date'] = csv_data['current_date'].apply(graphs.GAMA_time_to_datetime)\n",
    "\n",
    "csv_data = pandas.concat([df_prepend_expenses, csv_data])\n",
    "print(csv_data)"
   ]
  },
  {
   "cell_type": "code",
   "execution_count": null,
   "metadata": {},
   "outputs": [],
   "source": []
  }
 ],
 "metadata": {
  "kernelspec": {
   "display_name": "Python 3.10.4 64-bit",
   "language": "python",
   "name": "python3"
  },
  "language_info": {
   "codemirror_mode": {
    "name": "ipython",
    "version": 3
   },
   "file_extension": ".py",
   "mimetype": "text/x-python",
   "name": "python",
   "nbconvert_exporter": "python",
   "pygments_lexer": "ipython3",
   "version": "3.10.6"
  },
  "orig_nbformat": 4,
  "vscode": {
   "interpreter": {
    "hash": "31f2aee4e71d21fbe5cf8b01ff0e069b9275f58929596ceb00d14d90e3e16cd6"
   }
  }
 },
 "nbformat": 4,
 "nbformat_minor": 2
}
