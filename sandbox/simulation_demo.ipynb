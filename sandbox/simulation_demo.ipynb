{
 "cells": [
  {
   "cell_type": "code",
   "execution_count": 1,
   "metadata": {},
   "outputs": [
    {
     "name": "stdout",
     "output_type": "stream",
     "text": [
      "pygame 2.1.2 (SDL 2.0.16, Python 3.10.6)\n",
      "Hello from the pygame community. https://www.pygame.org/contribute.html\n",
      "loading src_points: [[-3.700000000000001, 5.700000000000003], [-2.7000000000000033, 140.60000000000008], [117.69999999999996, 137.8], [117.39999999999998, 1.5000000000000013]]\n",
      "loading dst_points: [[80, 45], [80, 1035], [1840, 1035], [1840, 45]]\n"
     ]
    },
    {
     "name": "stderr",
     "output_type": "stream",
     "text": [
      "/home/dunland/github/qScope/qScope_frontend/q100viz/buildings.py:37: FutureWarning: In a future version of pandas all arguments of DataFrame.drop except for the argument 'labels' will be keyword-only.\n",
      "  bestand = bestand.drop('Kataster_S', 1)\n",
      "/home/dunland/github/qScope/qScope_frontend/q100viz/buildings.py:38: FutureWarning: In a future version of pandas all arguments of DataFrame.drop except for the argument 'labels' will be keyword-only.\n",
      "  bestand = bestand.drop('Kataster_H', 1)\n"
     ]
    }
   ],
   "source": [
    "import os\n",
    "import importlib  # used to reload modules if necessary\n",
    "path_to_frontend = '..'\n",
    "os.chdir(path_to_frontend)\n",
    "import q100viz.session as session\n",
    "import q100viz.devtools as devtools\n",
    "import q100viz.graphics.graphs as graphs"
   ]
  },
  {
   "cell_type": "code",
   "execution_count": 2,
   "metadata": {},
   "outputs": [],
   "source": [
    "# prepare simulation:\n",
    "# devtools.select_buildings_for_simulation(session.buildings.df, ['7.31', '7.32', '7.53', '7.54'])\n",
    "devtools.select_random_buildings_for_simulation(session.buildings.df, 4)"
   ]
  },
  {
   "cell_type": "code",
   "execution_count": 4,
   "metadata": {},
   "outputs": [
    {
     "name": "stdout",
     "output_type": "stream",
     "text": [
      "simulation will run until year 2045 (9496 steps)\n",
      "******************************************************************\n",
      "* GAMA version 1.8.2                                             *\n",
      "* http://gama-platform.org                                       *\n",
      "* (c) 2007-2022 UMI 209 UMMISCO IRD/SU & Partners                *\n",
      "******************************************************************\n",
      "> GAMA: version 1.8.2                         loading on____ linux 5.15.0-52-generic, x86_64, JDK 17.0.3\n",
      "> JAI : ImageIO extensions                    loaded for____ jpg||tiff|bmp|gif|arx|tf8|TF8|png|ppm|jp2|asc|tif|TIF|TIFF|btf|BTF|pgm|wbmp|jpeg|pbm\n",
      "> GAMA: msi.gama.core                         loaded in_____ 1060ms\n",
      "> GAMA: ummisco.gaml.extensions.stats         loaded in_____ 23ms\n",
      "> GAMA: ummisco.gama.opengl                   loaded in_____ 3ms\n",
      "> GAMA: ummisco.gama.java2d                   loaded in_____ 1ms\n",
      "> GAMA: ummisco.gama.network                  loaded in_____ 8ms\n",
      "> GAMA: msi.gaml.extensions.fipa              loaded in_____ 12ms\n",
      "> GAMA: miat.gaml.extension.pedestrian        loaded in_____ 15ms\n",
      "> GAMA: irit.gaml.extensions.database         loaded in_____ 10ms\n",
      "> GAMA: simtools.gaml.extensions.traffic      loaded in_____ 34ms\n",
      "> GAMA: msi.gama.headless                     loaded in_____ 4ms\n",
      "> GAMA: msi.gaml.architecture.simplebdi       loaded in_____ 63ms\n",
      "> GAMA: msi.gama.lang.gaml                    loaded in_____ 3ms\n",
      "> GAMA: ummisco.gaml.extensions.maths         loaded in_____ 51ms\n",
      "> GAMA: simtools.gaml.extensions.physics      loaded in_____ 14ms\n",
      "> GAMA: ummisco.gama.serialize                loaded in_____ 7ms\n",
      "> GAMA: espacedev.gaml.extensions.genstar     loaded in_____ 5ms\n",
      "> GAMA: all plugins                           loaded in_____ 1408ms\n",
      "GAMA configuring and loading...\n",
      "> GAMA: GAML artefacts                        built in______ 42ms\n"
     ]
    }
   ],
   "source": [
    "# start simulation:\n",
    "session.simulation.activate(input_max_year=2021)"
   ]
  },
  {
   "cell_type": "code",
   "execution_count": null,
   "metadata": {},
   "outputs": [],
   "source": [
    "# create combined emissions graph:\n",
    "importlib.reload(graphs)\n",
    "graphs.export_combined_emissions(session.buildings.list_from_groups(), current_output_folder=\"/home/dunland/github/qScope/data/outputs/output_test\", compare_data_folder=\"/home/dunland/github/qScope/data/precomputed/simulation_defaults\")"
   ]
  },
  {
   "cell_type": "code",
   "execution_count": null,
   "metadata": {},
   "outputs": [],
   "source": [
    "# create combined energy prices graph:\n",
    "importlib.reload(graphs)\n",
    "graphs.export_combined_energy_prices(\"/home/dunland/github/qScope/data/outputs/output_test\", outfile=None, compare_data_folder=\"/home/dunland/github/qScope/data/precomputed/simulation_defaults\")"
   ]
  },
  {
   "cell_type": "code",
   "execution_count": null,
   "metadata": {},
   "outputs": [],
   "source": [
    "# create individual graphs for precomputed simulation:\n",
    "importlib.reload(graphs)\n",
    "\n",
    "session.buildings.df['group'] = 0\n",
    "\n",
    "output_folder = \"/home/dunland/github/qScope/data/precomputed/simulation_defaults\"\n",
    "for group_df in session.buildings.list_from_groups():\n",
    "    if group_df is not None:\n",
    "        for idx in group_df.index:\n",
    "\n",
    "            # export emissions graph:\n",
    "            graphs.export_default_graph(\n",
    "                csv_name=\"/emissions/CO2_emissions_{0}.csv\".format(\n",
    "                    idx),\n",
    "                data_folders=[output_folder],\n",
    "                csv_columns=['building_household_emissions'],\n",
    "                title_=\"CO2-Emissionen\",\n",
    "                outfile=output_folder + \"/emissions/CO2_emissions_{0}.png\".format(idx),\n",
    "                xlabel_=\"Jahr\",\n",
    "                ylabel_=\"ø-Emissionen [$kg_{CO2,eq}$]\",\n",
    "                x_='current_date',\n",
    "                convert_grams_to_kg=True,\n",
    "                # compare_data_folder=output_folder + \"/../../precomputed/simulation_defaults\"\n",
    "            )"
   ]
  },
  {
   "cell_type": "code",
   "execution_count": null,
   "metadata": {},
   "outputs": [],
   "source": [
    "importlib.reload(graphs)\n",
    "\n",
    "session.buildings.df['group'] = 0\n",
    "\n",
    "output_folder = \"/home/dunland/github/qScope/data/precomputed/simulation_defaults\"\n",
    "for group_df in session.buildings.list_from_groups():\n",
    "    if group_df is not None:\n",
    "        for idx in group_df.index:\n",
    "            # export energy prices graph:\n",
    "            graphs.export_default_graph(\n",
    "                csv_name=\"/energy_prices/energy_prices_{0}.csv\".format(\n",
    "                    idx),\n",
    "                data_folders=[output_folder],\n",
    "                csv_columns=['building_household_expenses_heat',\n",
    "                            'building_household_expenses_power'],\n",
    "                labels_=['Wärmekosten', 'Stromkosten'],\n",
    "                outfile=output_folder + \"/energy_prices/energy_prices_{0}.png\".format(idx),\n",
    "                title_=\"Energiekosten\",\n",
    "                xlabel_=\"Jahr\",\n",
    "                ylabel_=\"€/Monat\",\n",
    "                x_='current_date',\n",
    "                # label_show_iteration_round=False\n",
    "                # compare_data_folder=self.current_output_folder + \"/../../precomputed/simulation_defaults\"\n",
    "            )"
   ]
  },
  {
   "cell_type": "code",
   "execution_count": null,
   "metadata": {},
   "outputs": [],
   "source": [
    "# os.listdir(\"../qScope/data/precomputed/simulation_defaults/emissions/\")\n",
    "filelist = []\n",
    "for root, dirs, files in os.walk(\"../qScope/data/precomputed/simulation_defaults/emissions/\"):\n",
    "    for name in sorted(files):\n",
    "        if name[-4:].__eq__('.png'):\n",
    "            filelist.append(os.path.join(root, name))\n",
    "print(filelist)"
   ]
  },
  {
   "cell_type": "code",
   "execution_count": null,
   "metadata": {},
   "outputs": [],
   "source": []
  }
 ],
 "metadata": {
  "kernelspec": {
   "display_name": "Python 3.10.4 64-bit",
   "language": "python",
   "name": "python3"
  },
  "language_info": {
   "codemirror_mode": {
    "name": "ipython",
    "version": 3
   },
   "file_extension": ".py",
   "mimetype": "text/x-python",
   "name": "python",
   "nbconvert_exporter": "python",
   "pygments_lexer": "ipython3",
   "version": "3.10.6"
  },
  "orig_nbformat": 4,
  "vscode": {
   "interpreter": {
    "hash": "31f2aee4e71d21fbe5cf8b01ff0e069b9275f58929596ceb00d14d90e3e16cd6"
   }
  }
 },
 "nbformat": 4,
 "nbformat_minor": 2
}
