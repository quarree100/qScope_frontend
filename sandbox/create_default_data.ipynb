{
 "cells": [
  {
   "cell_type": "code",
   "execution_count": null,
   "metadata": {},
   "outputs": [],
   "source": [
    "import os\n",
    "import importlib  # used to reload modules if necessary\n",
    "path_to_frontend = '..'\n",
    "os.chdir(path_to_frontend)\n",
    "print(\"current working directory: \" + os.getcwd())\n",
    "import q100viz.session as session\n",
    "import q100viz.devtools as devtools\n",
    "import q100viz.graphics.graphs as graphs"
   ]
  },
  {
   "cell_type": "markdown",
   "metadata": {},
   "source": [
    "## Simulation"
   ]
  },
  {
   "cell_type": "code",
   "execution_count": null,
   "metadata": {},
   "outputs": [],
   "source": [
    "# prepare reference data: select buildings without decisions\n",
    "session.buildings.df['selected'] = True\n",
    "session.buildings.df['group'] = 1"
   ]
  },
  {
   "cell_type": "code",
   "execution_count": null,
   "metadata": {},
   "outputs": [],
   "source": [
    "# simulate until 2045\n",
    "session.simulation.setup(input_max_year=2045, export_graphs=False)\n",
    "session.simulation.run()"
   ]
  },
  {
   "cell_type": "markdown",
   "metadata": {},
   "source": [
    "## Export gray individual graphs:\n",
    "### individual emissions"
   ]
  },
  {
   "cell_type": "code",
   "execution_count": null,
   "metadata": {},
   "outputs": [],
   "source": [
    "########## individual buildings data ########\n",
    "for idx in session.buildings.df.index:\n",
    "\n",
    "    # export emissions graph:\n",
    "    graphs.export_individual_emissions(\n",
    "        csv_name=\"/emissions/CO2_emissions_{0}.csv\".format(\n",
    "            idx),\n",
    "        data_folders=session.simulation.output_folders,\n",
    "        columns=['building_household_emissions'],\n",
    "        title_=\"Emissionen\",\n",
    "        outfile=session.simulation.current_output_folder +\n",
    "        \"/emissions/CO2_emissions_{0}.png\".format(idx),\n",
    "        xlabel_=\"Jahr\",\n",
    "        ylabel_=\"$CO_{2}$-Äquivalente (kg/Monat)\",  # TODO: t/Jahr\n",
    "        x_='current_date',\n",
    "        convert_grams_to_kg=True,\n",
    "        # compare_data_folder=session.simulation.current_output_folder + \"/../../precomputed/simulation_defaults\",\n",
    "        figtext=\n",
    "            str(idx) + \" \"\n",
    "            + str(group_df.loc[idx, 'address']) + \" \"\n",
    "            + str(group_df.loc[idx, 'type'])\n",
    "            + \"\\nø-spez. Wärmeverbrauch: \"\n",
    "            + str(group_df.loc[idx, 'avg_spec_heat_consumption'])\n",
    "            + \", ø-spez. Stromverbrauch: \"\n",
    "            + str(group_df.loc[idx, 'avg_spec_heat_consumption'])\n",
    "            if session.VERBOSE_MODE else \"\",\n",
    "        figsize=(16,12),  # inches\n",
    "        overwrite_color='lightgray',\n",
    "        show_legend=False\n",
    "    )"
   ]
  },
  {
   "cell_type": "markdown",
   "metadata": {},
   "source": [
    "### individual energy costs"
   ]
  },
  {
   "cell_type": "code",
   "execution_count": null,
   "metadata": {},
   "outputs": [],
   "source": [
    "for idx in session.buildings.df.index:\n",
    "    # export energy prices graph:\n",
    "    graphs.export_individual_energy_expenses(\n",
    "        building_idx=idx,\n",
    "        csv_name=\"/energy_prices/energy_prices_{0}.csv\".format(\n",
    "            idx),\n",
    "        data_folders=session.simulation.output_folders,\n",
    "        columns=['building_household_expenses_heat',\n",
    "                'building_household_expenses_power'],\n",
    "        labels_=['Wärmekosten', 'Stromkosten'],\n",
    "        outfile=session.simulation.current_output_folder +\n",
    "        \"/energy_prices/energy_prices_{0}.png\".format(idx),\n",
    "        title_=\"Energiekosten\",\n",
    "        xlabel_=\"Jahr\",\n",
    "        ylabel_=\"€/Monat\",\n",
    "        x_='current_date',\n",
    "        figtext=\n",
    "            str(idx) + \" \"\n",
    "            + str(group_df.loc[idx, 'address']) + \" \"\n",
    "            + str(group_df.loc[idx, 'type'])\n",
    "            + \"\\nø-spez. Wärmeverbrauch: \"\n",
    "            + str(group_df.loc[idx, 'avg_spec_heat_consumption'])\n",
    "            + \", ø-spez. Stromverbrauch: \"\n",
    "            + str(group_df.loc[idx, 'avg_spec_heat_consumption'])\n",
    "            if session.VERBOSE_MODE else \"\",\n",
    "        figsize=(16,12),  # inches\n",
    "        overwrite_color='lightgray',\n",
    "        label_show_iteration_round=False,\n",
    "        prepend_historic_data=True\n",
    "    )"
   ]
  },
  {
   "cell_type": "markdown",
   "metadata": {},
   "source": [
    "## Copy data\n",
    "\n",
    "after the simulation is done, copy the freshly created folder to `..data/precomputed/simulation_defaults`"
   ]
  },
  {
   "cell_type": "code",
   "execution_count": null,
   "metadata": {},
   "outputs": [],
   "source": [
    "import shutil\n",
    "\n",
    "source = session.simulation.current_output_folder\n",
    "destination = session.simulation.reference_data_folder\n",
    "\n",
    "shutil.copytree(source, destination, dirs_exist_ok=True)"
   ]
  }
 ],
 "metadata": {
  "kernelspec": {
   "display_name": "Python 3.10.6 64-bit",
   "language": "python",
   "name": "python3"
  },
  "language_info": {
   "codemirror_mode": {
    "name": "ipython",
    "version": 3
   },
   "file_extension": ".py",
   "mimetype": "text/x-python",
   "name": "python",
   "nbconvert_exporter": "python",
   "pygments_lexer": "ipython3",
   "version": "3.10.6"
  },
  "orig_nbformat": 4,
  "vscode": {
   "interpreter": {
    "hash": "31f2aee4e71d21fbe5cf8b01ff0e069b9275f58929596ceb00d14d90e3e16cd6"
   }
  }
 },
 "nbformat": 4,
 "nbformat_minor": 2
}
